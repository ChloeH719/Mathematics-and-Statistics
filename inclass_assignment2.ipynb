{
 "cells": [
  {
   "cell_type": "markdown",
   "metadata": {},
   "source": [
    "# **In Class Assignment2**"
   ]
  },
  {
   "cell_type": "code",
   "execution_count": 3,
   "metadata": {},
   "outputs": [],
   "source": [
    "# import neccessary libraries\n",
    "import csv\n",
    "import pandas as pd\n",
    "import numpy as np\n",
    "import matplotlib.pyplot as plt"
   ]
  },
  {
   "cell_type": "code",
   "execution_count": 5,
   "metadata": {},
   "outputs": [
    {
     "name": "stdout",
     "output_type": "stream",
     "text": [
      "   Year Age GenderNum AutismQuotient STAI BRIEF_Total Device DailyAvgMins  \\\n",
      "0  2022             2              4   49          70                       \n",
      "1  2021  37         2              8   44          33                       \n",
      "2  2022             1                                                       \n",
      "3  2022             1                                                       \n",
      "4  2022             2                                                       \n",
      "\n",
      "  DailyAvePickups  VS_RT_correct_Conjunction  VS_RT_correct_Single  \n",
      "0                                1178.700000           1216.387500  \n",
      "1                                 946.470000            785.597500  \n",
      "2                                1182.741667            950.900000  \n",
      "3                                1778.950000            984.333333  \n",
      "4                                 521.500000            503.000000  \n",
      "\n",
      "\n",
      "   0.00632  18.00   2.310  0  0.5380  6.5750  65.20  4.0900   1  296.0  15.30 396.90   4.98  24.00\n",
      "0   0.02731   0.00   7.070  0  0.4690  6.4210  78...                                              \n",
      "1   0.02729   0.00   7.070  0  0.4690  7.1850  61...                                              \n",
      "2   0.03237   0.00   2.180  0  0.4580  6.9980  45...                                              \n",
      "3   0.06905   0.00   2.180  0  0.4580  7.1470  54...                                              \n",
      "4   0.02985   0.00   2.180  0  0.4580  6.4300  58...                                              \n",
      "\n",
      "\n",
      "                                               178    13  class_0  class_1  \\\n",
      "14.23 1.71 2.43 15.6 127 2.80 3.06 0.28 2.29  5.64  1.04     3.92     1065   \n",
      "13.20 1.78 2.14 11.2 100 2.65 2.76 0.26 1.28  4.38  1.05     3.40     1050   \n",
      "13.16 2.36 2.67 18.6 101 2.80 3.24 0.30 2.81  5.68  1.03     3.17     1185   \n",
      "14.37 1.95 2.50 16.8 113 3.85 3.49 0.24 2.18  7.80  0.86     3.45     1480   \n",
      "13.24 2.59 2.87 21.0 118 2.80 2.69 0.39 1.82  4.32  1.04     2.93      735   \n",
      "\n",
      "                                              class_2  \n",
      "14.23 1.71 2.43 15.6 127 2.80 3.06 0.28 2.29        0  \n",
      "13.20 1.78 2.14 11.2 100 2.65 2.76 0.26 1.28        0  \n",
      "13.16 2.36 2.67 18.6 101 2.80 3.24 0.30 2.81        0  \n",
      "14.37 1.95 2.50 16.8 113 3.85 3.49 0.24 2.18        0  \n",
      "13.24 2.59 2.87 21.0 118 2.80 2.69 0.39 1.82        0  \n",
      "\n",
      "\n",
      "         filename       tempo  beats  chroma_stft      rmse  \\\n",
      "0  blues.00081.au  103.359375     50     0.380260  0.248262   \n",
      "1  blues.00022.au   95.703125     44     0.306451  0.113475   \n",
      "2  blues.00031.au  151.999081     75     0.253487  0.151571   \n",
      "3  blues.00012.au  184.570312     91     0.269320  0.119072   \n",
      "4  blues.00056.au  161.499023     74     0.391059  0.137728   \n",
      "\n",
      "   spectral_centroid  spectral_bandwidth      rolloff  zero_crossing_rate  \\\n",
      "0        2116.942959         1956.611056  4196.107960            0.127272   \n",
      "1        1156.070496         1497.668176  2170.053545            0.058613   \n",
      "2        1331.073970         1973.643437  2900.174130            0.042967   \n",
      "3        1361.045467         1567.804596  2739.625101            0.069124   \n",
      "4        1811.076084         2052.332563  3927.809582            0.075480   \n",
      "\n",
      "        mfcc1  ...     mfcc12     mfcc13    mfcc14    mfcc15    mfcc16  \\\n",
      "0  -26.929785  ...  14.336612 -13.821769  7.562789 -6.181372  0.330165   \n",
      "1 -233.860772  ...  -2.250578   3.959198  5.322555  0.812028 -1.107202   \n",
      "2 -221.802549  ... -13.037723 -12.652228 -1.821905 -7.260097 -6.660252   \n",
      "3 -207.208080  ...  -0.613248   0.384877  2.605128 -5.188924 -9.527455   \n",
      "4 -145.434568  ...   7.457218 -10.470444 -2.360483 -6.783623  2.671134   \n",
      "\n",
      "      mfcc17     mfcc18     mfcc19     mfcc20  label  \n",
      "0  -6.829571   0.965922  -7.570825   2.918987  blues  \n",
      "1  -4.556555  -2.436490   3.316913  -0.608485  blues  \n",
      "2 -14.682694 -11.719264 -11.025216 -13.387260  blues  \n",
      "3  -9.244394  -2.848274  -1.418707  -5.932607  blues  \n",
      "4  -4.760879  -0.949005   0.024832  -2.005315  blues  \n",
      "\n",
      "[5 rows x 30 columns]\n"
     ]
    }
   ],
   "source": [
    "# import 4 csv files\n",
    "df_mobile = pd.read_csv('MASTER_PhonesmartdataAll_CCI_AdvStats.csv')\n",
    "df_housing = pd.read_csv('housing.csv')\n",
    "df_wine = pd.read_csv('wine_data.csv')\n",
    "df_data = pd.read_csv('data.csv')\n",
    "\n",
    "# print the first 5 rows of each dataset\n",
    "print(df_mobile.head())\n",
    "print('\\n')\n",
    "print(df_housing.head())\n",
    "print('\\n')\n",
    "print(df_wine.head())\n",
    "print('\\n')\n",
    "print(df_data.head())"
   ]
  },
  {
   "cell_type": "code",
   "execution_count": null,
   "metadata": {},
   "outputs": [],
   "source": []
  }
 ],
 "metadata": {
  "kernelspec": {
   "display_name": "Python 3",
   "language": "python",
   "name": "python3"
  },
  "language_info": {
   "codemirror_mode": {
    "name": "ipython",
    "version": 3
   },
   "file_extension": ".py",
   "mimetype": "text/x-python",
   "name": "python",
   "nbconvert_exporter": "python",
   "pygments_lexer": "ipython3",
   "version": "3.8.8"
  }
 },
 "nbformat": 4,
 "nbformat_minor": 2
}
